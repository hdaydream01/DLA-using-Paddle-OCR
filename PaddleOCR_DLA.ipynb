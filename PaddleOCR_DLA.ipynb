{
  "nbformat": 4,
  "nbformat_minor": 0,
  "metadata": {
    "colab": {
      "provenance": []
    },
    "kernelspec": {
      "name": "python3",
      "display_name": "Python 3"
    },
    "language_info": {
      "name": "python"
    }
  },
  "cells": [
    {
      "cell_type": "markdown",
      "source": [
        "Installation"
      ],
      "metadata": {
        "id": "4GGDTiefOiez"
      }
    },
    {
      "cell_type": "markdown",
      "source": [
        "Paddlepaddle installation for gpu\n"
      ],
      "metadata": {
        "id": "rfO0j_ddOuQ-"
      }
    },
    {
      "cell_type": "code",
      "execution_count": null,
      "metadata": {
        "colab": {
          "base_uri": "https://localhost:8080/"
        },
        "id": "A4vWp1wxuRp5",
        "outputId": "d1fb1fa2-fa87-4b77-b611-c03a2679bf38"
      },
      "outputs": [
        {
          "output_type": "stream",
          "name": "stdout",
          "text": [
            "Looking in indexes: https://mirror.baidu.com/pypi/simple\n",
            "Collecting paddlepaddle-gpu>=2.3\n",
            "  Downloading https://mirror.baidu.com/pypi/packages/93/63/f3f4162eda303bc92586d3cafc015793f0b1dd6304719cba7b97bc0038f6/paddlepaddle_gpu-2.5.0-cp310-cp310-manylinux1_x86_64.whl (543.2 MB)\n",
            "\u001b[2K     \u001b[90m━━━━━━━━━━━━━━━━━━━━━━━━━━━━━━━━━━━━━━━\u001b[0m \u001b[32m543.2/543.2 MB\u001b[0m \u001b[31m2.2 MB/s\u001b[0m eta \u001b[36m0:00:00\u001b[0m\n",
            "\u001b[?25hCollecting httpx (from paddlepaddle-gpu>=2.3)\n",
            "  Downloading https://mirror.baidu.com/pypi/packages/ec/91/e41f64f03d2a13aee7e8c819d82ee3aa7cdc484d18c0ae859742597d5aa0/httpx-0.24.1-py3-none-any.whl (75 kB)\n",
            "\u001b[2K     \u001b[90m━━━━━━━━━━━━━━━━━━━━━━━━━━━━━━━━━━━━━━━━\u001b[0m \u001b[32m75.4/75.4 kB\u001b[0m \u001b[31m6.5 MB/s\u001b[0m eta \u001b[36m0:00:00\u001b[0m\n",
            "\u001b[?25hRequirement already satisfied: numpy>=1.13 in /usr/local/lib/python3.10/dist-packages (from paddlepaddle-gpu>=2.3) (1.22.4)\n",
            "Requirement already satisfied: Pillow in /usr/local/lib/python3.10/dist-packages (from paddlepaddle-gpu>=2.3) (8.4.0)\n",
            "Requirement already satisfied: decorator in /usr/local/lib/python3.10/dist-packages (from paddlepaddle-gpu>=2.3) (4.4.2)\n",
            "Collecting astor (from paddlepaddle-gpu>=2.3)\n",
            "  Downloading https://mirror.baidu.com/pypi/packages/c3/88/97eef84f48fa04fbd6750e62dcceafba6c63c81b7ac1420856c8dcc0a3f9/astor-0.8.1-py2.py3-none-any.whl (27 kB)\n",
            "Collecting paddle-bfloat==0.1.7 (from paddlepaddle-gpu>=2.3)\n",
            "  Downloading https://mirror.baidu.com/pypi/packages/72/cc/4e6149a9a94f0e1449686f2e5152b734bbc7ddce18ea3b240995d39fc642/paddle_bfloat-0.1.7-cp310-cp310-manylinux_2_17_x86_64.manylinux2014_x86_64.whl (383 kB)\n",
            "\u001b[2K     \u001b[90m━━━━━━━━━━━━━━━━━━━━━━━━━━━━━━━━━━━━━━\u001b[0m \u001b[32m383.2/383.2 kB\u001b[0m \u001b[31m13.4 MB/s\u001b[0m eta \u001b[36m0:00:00\u001b[0m\n",
            "\u001b[?25hRequirement already satisfied: opt-einsum==3.3.0 in /usr/local/lib/python3.10/dist-packages (from paddlepaddle-gpu>=2.3) (3.3.0)\n",
            "Requirement already satisfied: protobuf>=3.20.2 in /usr/local/lib/python3.10/dist-packages (from paddlepaddle-gpu>=2.3) (3.20.3)\n",
            "Requirement already satisfied: certifi in /usr/local/lib/python3.10/dist-packages (from httpx->paddlepaddle-gpu>=2.3) (2023.5.7)\n",
            "Collecting httpcore<0.18.0,>=0.15.0 (from httpx->paddlepaddle-gpu>=2.3)\n",
            "  Downloading https://mirror.baidu.com/pypi/packages/4d/32/b908f673ccef12b6425b848a541264ee3d95f5f571f18f6ab0d8c311442e/httpcore-0.17.2-py3-none-any.whl (72 kB)\n",
            "\u001b[2K     \u001b[90m━━━━━━━━━━━━━━━━━━━━━━━━━━━━━━━━━━━━━━━━\u001b[0m \u001b[32m72.5/72.5 kB\u001b[0m \u001b[31m6.5 MB/s\u001b[0m eta \u001b[36m0:00:00\u001b[0m\n",
            "\u001b[?25hRequirement already satisfied: idna in /usr/local/lib/python3.10/dist-packages (from httpx->paddlepaddle-gpu>=2.3) (3.4)\n",
            "Requirement already satisfied: sniffio in /usr/local/lib/python3.10/dist-packages (from httpx->paddlepaddle-gpu>=2.3) (1.3.0)\n",
            "Collecting h11<0.15,>=0.13 (from httpcore<0.18.0,>=0.15.0->httpx->paddlepaddle-gpu>=2.3)\n",
            "  Downloading https://mirror.baidu.com/pypi/packages/95/04/ff642e65ad6b90db43e668d70ffb6736436c7ce41fcc549f4e9472234127/h11-0.14.0-py3-none-any.whl (58 kB)\n",
            "\u001b[2K     \u001b[90m━━━━━━━━━━━━━━━━━━━━━━━━━━━━━━━━━━━━━━━━\u001b[0m \u001b[32m58.3/58.3 kB\u001b[0m \u001b[31m6.4 MB/s\u001b[0m eta \u001b[36m0:00:00\u001b[0m\n",
            "\u001b[?25hRequirement already satisfied: anyio<5.0,>=3.0 in /usr/local/lib/python3.10/dist-packages (from httpcore<0.18.0,>=0.15.0->httpx->paddlepaddle-gpu>=2.3) (3.7.0)\n",
            "Requirement already satisfied: exceptiongroup in /usr/local/lib/python3.10/dist-packages (from anyio<5.0,>=3.0->httpcore<0.18.0,>=0.15.0->httpx->paddlepaddle-gpu>=2.3) (1.1.1)\n",
            "Installing collected packages: paddle-bfloat, h11, astor, httpcore, httpx, paddlepaddle-gpu\n",
            "Successfully installed astor-0.8.1 h11-0.14.0 httpcore-0.17.2 httpx-0.24.1 paddle-bfloat-0.1.7 paddlepaddle-gpu-2.5.0\n"
          ]
        }
      ],
      "source": [
        "pip install \"paddlepaddle-gpu>=2.3\" -i https://mirror.baidu.com/pypi/simple"
      ]
    },
    {
      "cell_type": "markdown",
      "source": [
        "paddlepaddle installation for CPU"
      ],
      "metadata": {
        "id": "uhZZsn9GO0xt"
      }
    },
    {
      "cell_type": "code",
      "source": [
        "pip install \"paddlepaddle>=2.3\" -i https://mirror.baidu.com/pypi/simple"
      ],
      "metadata": {
        "colab": {
          "base_uri": "https://localhost:8080/"
        },
        "id": "xuzq1hRvvRAg",
        "outputId": "e52cc244-aa66-4da7-fcd4-d34e63b5c3b0"
      },
      "execution_count": null,
      "outputs": [
        {
          "output_type": "stream",
          "name": "stdout",
          "text": [
            "Looking in indexes: https://mirror.baidu.com/pypi/simple\n",
            "Collecting paddlepaddle>=2.3\n",
            "  Downloading https://mirror.baidu.com/pypi/packages/03/2a/b8a1e4fa3fcd51de09e98510a41a014c111e9bff808cdfdb351b3d02b760/paddlepaddle-2.5.0-cp310-cp310-manylinux1_x86_64.whl (124.9 MB)\n",
            "\u001b[2K     \u001b[90m━━━━━━━━━━━━━━━━━━━━━━━━━━━━━━━━━━━━━━━\u001b[0m \u001b[32m124.9/124.9 MB\u001b[0m \u001b[31m5.1 MB/s\u001b[0m eta \u001b[36m0:00:00\u001b[0m\n",
            "\u001b[?25hRequirement already satisfied: httpx in /usr/local/lib/python3.10/dist-packages (from paddlepaddle>=2.3) (0.24.1)\n",
            "Requirement already satisfied: numpy>=1.13 in /usr/local/lib/python3.10/dist-packages (from paddlepaddle>=2.3) (1.22.4)\n",
            "Requirement already satisfied: Pillow in /usr/local/lib/python3.10/dist-packages (from paddlepaddle>=2.3) (8.4.0)\n",
            "Requirement already satisfied: decorator in /usr/local/lib/python3.10/dist-packages (from paddlepaddle>=2.3) (4.4.2)\n",
            "Requirement already satisfied: astor in /usr/local/lib/python3.10/dist-packages (from paddlepaddle>=2.3) (0.8.1)\n",
            "Requirement already satisfied: paddle-bfloat==0.1.7 in /usr/local/lib/python3.10/dist-packages (from paddlepaddle>=2.3) (0.1.7)\n",
            "Requirement already satisfied: opt-einsum==3.3.0 in /usr/local/lib/python3.10/dist-packages (from paddlepaddle>=2.3) (3.3.0)\n",
            "Requirement already satisfied: protobuf>=3.20.2 in /usr/local/lib/python3.10/dist-packages (from paddlepaddle>=2.3) (3.20.3)\n",
            "Requirement already satisfied: certifi in /usr/local/lib/python3.10/dist-packages (from httpx->paddlepaddle>=2.3) (2023.5.7)\n",
            "Requirement already satisfied: httpcore<0.18.0,>=0.15.0 in /usr/local/lib/python3.10/dist-packages (from httpx->paddlepaddle>=2.3) (0.17.2)\n",
            "Requirement already satisfied: idna in /usr/local/lib/python3.10/dist-packages (from httpx->paddlepaddle>=2.3) (3.4)\n",
            "Requirement already satisfied: sniffio in /usr/local/lib/python3.10/dist-packages (from httpx->paddlepaddle>=2.3) (1.3.0)\n",
            "Requirement already satisfied: h11<0.15,>=0.13 in /usr/local/lib/python3.10/dist-packages (from httpcore<0.18.0,>=0.15.0->httpx->paddlepaddle>=2.3) (0.14.0)\n",
            "Requirement already satisfied: anyio<5.0,>=3.0 in /usr/local/lib/python3.10/dist-packages (from httpcore<0.18.0,>=0.15.0->httpx->paddlepaddle>=2.3) (3.7.0)\n",
            "Requirement already satisfied: exceptiongroup in /usr/local/lib/python3.10/dist-packages (from anyio<5.0,>=3.0->httpcore<0.18.0,>=0.15.0->httpx->paddlepaddle>=2.3) (1.1.1)\n",
            "Installing collected packages: paddlepaddle\n",
            "Successfully installed paddlepaddle-2.5.0\n"
          ]
        }
      ]
    },
    {
      "cell_type": "markdown",
      "source": [
        "paddleocr installation"
      ],
      "metadata": {
        "id": "bgjkJLa0O6KS"
      }
    },
    {
      "cell_type": "code",
      "source": [
        "pip install \"paddleocr>=2.6.0.3\""
      ],
      "metadata": {
        "colab": {
          "base_uri": "https://localhost:8080/"
        },
        "id": "l_2OT_eVwY9N",
        "outputId": "c2567aed-3932-418e-a5dc-45c192958e8b"
      },
      "execution_count": null,
      "outputs": [
        {
          "output_type": "stream",
          "name": "stdout",
          "text": [
            "Collecting paddleocr>=2.6.0.3\n",
            "  Downloading paddleocr-2.6.1.3-py3-none-any.whl (445 kB)\n",
            "\u001b[?25l     \u001b[90m━━━━━━━━━━━━━━━━━━━━━━━━━━━━━━━━━━━━━━━━\u001b[0m \u001b[32m0.0/445.9 kB\u001b[0m \u001b[31m?\u001b[0m eta \u001b[36m-:--:--\u001b[0m\r\u001b[2K     \u001b[91m━━━━━━━━━━━━━━━━━━━━━━━\u001b[0m\u001b[90m╺\u001b[0m\u001b[90m━━━━━━━━━━━━━━━\u001b[0m \u001b[32m266.2/445.9 kB\u001b[0m \u001b[31m7.9 MB/s\u001b[0m eta \u001b[36m0:00:01\u001b[0m\r\u001b[2K     \u001b[90m━━━━━━━━━━━━━━━━━━━━━━━━━━━━━━━━━━━━━━━\u001b[0m \u001b[32m445.9/445.9 kB\u001b[0m \u001b[31m8.6 MB/s\u001b[0m eta \u001b[36m0:00:00\u001b[0m\n",
            "\u001b[?25hRequirement already satisfied: shapely in /usr/local/lib/python3.10/dist-packages (from paddleocr>=2.6.0.3) (2.0.1)\n",
            "Requirement already satisfied: scikit-image in /usr/local/lib/python3.10/dist-packages (from paddleocr>=2.6.0.3) (0.19.3)\n",
            "Requirement already satisfied: imgaug in /usr/local/lib/python3.10/dist-packages (from paddleocr>=2.6.0.3) (0.4.0)\n",
            "Collecting pyclipper (from paddleocr>=2.6.0.3)\n",
            "  Downloading pyclipper-1.3.0.post4-cp310-cp310-manylinux_2_12_x86_64.manylinux2010_x86_64.whl (813 kB)\n",
            "\u001b[2K     \u001b[90m━━━━━━━━━━━━━━━━━━━━━━━━━━━━━━━━━━━━━━\u001b[0m \u001b[32m813.9/813.9 kB\u001b[0m \u001b[31m36.2 MB/s\u001b[0m eta \u001b[36m0:00:00\u001b[0m\n",
            "\u001b[?25hCollecting lmdb (from paddleocr>=2.6.0.3)\n",
            "  Downloading lmdb-1.4.1-cp310-cp310-manylinux_2_17_x86_64.manylinux2014_x86_64.whl (299 kB)\n",
            "\u001b[2K     \u001b[90m━━━━━━━━━━━━━━━━━━━━━━━━━━━━━━━━━━━━━━\u001b[0m \u001b[32m299.2/299.2 kB\u001b[0m \u001b[31m28.3 MB/s\u001b[0m eta \u001b[36m0:00:00\u001b[0m\n",
            "\u001b[?25hRequirement already satisfied: tqdm in /usr/local/lib/python3.10/dist-packages (from paddleocr>=2.6.0.3) (4.65.0)\n",
            "Requirement already satisfied: numpy in /usr/local/lib/python3.10/dist-packages (from paddleocr>=2.6.0.3) (1.22.4)\n",
            "Collecting visualdl (from paddleocr>=2.6.0.3)\n",
            "  Downloading visualdl-2.5.3-py3-none-any.whl (6.3 MB)\n",
            "\u001b[2K     \u001b[90m━━━━━━━━━━━━━━━━━━━━━━━━━━━━━━━━━━━━━━━━\u001b[0m \u001b[32m6.3/6.3 MB\u001b[0m \u001b[31m6.7 MB/s\u001b[0m eta \u001b[36m0:00:00\u001b[0m\n",
            "\u001b[?25hCollecting rapidfuzz (from paddleocr>=2.6.0.3)\n",
            "  Downloading rapidfuzz-3.1.1-cp310-cp310-manylinux_2_17_x86_64.manylinux2014_x86_64.whl (3.1 MB)\n",
            "\u001b[2K     \u001b[90m━━━━━━━━━━━━━━━━━━━━━━━━━━━━━━━━━━━━━━━━\u001b[0m \u001b[32m3.1/3.1 MB\u001b[0m \u001b[31m60.5 MB/s\u001b[0m eta \u001b[36m0:00:00\u001b[0m\n",
            "\u001b[?25hCollecting opencv-python<=4.6.0.66 (from paddleocr>=2.6.0.3)\n",
            "  Downloading opencv_python-4.6.0.66-cp36-abi3-manylinux_2_17_x86_64.manylinux2014_x86_64.whl (60.9 MB)\n",
            "\u001b[2K     \u001b[90m━━━━━━━━━━━━━━━━━━━━━━━━━━━━━━━━━━━━━━━━\u001b[0m \u001b[32m60.9/60.9 MB\u001b[0m \u001b[31m6.9 MB/s\u001b[0m eta \u001b[36m0:00:00\u001b[0m\n",
            "\u001b[?25hCollecting opencv-contrib-python<=4.6.0.66 (from paddleocr>=2.6.0.3)\n",
            "  Downloading opencv_contrib_python-4.6.0.66-cp36-abi3-manylinux_2_17_x86_64.manylinux2014_x86_64.whl (67.1 MB)\n",
            "\u001b[2K     \u001b[90m━━━━━━━━━━━━━━━━━━━━━━━━━━━━━━━━━━━━━━━━\u001b[0m \u001b[32m67.1/67.1 MB\u001b[0m \u001b[31m5.6 MB/s\u001b[0m eta \u001b[36m0:00:00\u001b[0m\n",
            "\u001b[?25hRequirement already satisfied: cython in /usr/local/lib/python3.10/dist-packages (from paddleocr>=2.6.0.3) (0.29.35)\n",
            "Requirement already satisfied: lxml in /usr/local/lib/python3.10/dist-packages (from paddleocr>=2.6.0.3) (4.9.2)\n",
            "Collecting premailer (from paddleocr>=2.6.0.3)\n",
            "  Downloading premailer-3.10.0-py2.py3-none-any.whl (19 kB)\n",
            "Requirement already satisfied: openpyxl in /usr/local/lib/python3.10/dist-packages (from paddleocr>=2.6.0.3) (3.0.10)\n",
            "Collecting attrdict (from paddleocr>=2.6.0.3)\n",
            "  Downloading attrdict-2.0.1-py2.py3-none-any.whl (9.9 kB)\n",
            "Collecting PyMuPDF<1.21.0 (from paddleocr>=2.6.0.3)\n",
            "  Downloading PyMuPDF-1.20.2-cp310-cp310-manylinux_2_17_x86_64.manylinux2014_x86_64.whl (8.9 MB)\n",
            "\u001b[2K     \u001b[90m━━━━━━━━━━━━━━━━━━━━━━━━━━━━━━━━━━━━━━━━\u001b[0m \u001b[32m8.9/8.9 MB\u001b[0m \u001b[31m26.6 MB/s\u001b[0m eta \u001b[36m0:00:00\u001b[0m\n",
            "\u001b[?25hCollecting python-docx (from paddleocr>=2.6.0.3)\n",
            "  Downloading python-docx-0.8.11.tar.gz (5.6 MB)\n",
            "\u001b[2K     \u001b[90m━━━━━━━━━━━━━━━━━━━━━━━━━━━━━━━━━━━━━━━━\u001b[0m \u001b[32m5.6/5.6 MB\u001b[0m \u001b[31m91.9 MB/s\u001b[0m eta \u001b[36m0:00:00\u001b[0m\n",
            "\u001b[?25h  Preparing metadata (setup.py) ... \u001b[?25l\u001b[?25hdone\n",
            "Requirement already satisfied: beautifulsoup4 in /usr/local/lib/python3.10/dist-packages (from paddleocr>=2.6.0.3) (4.11.2)\n",
            "Requirement already satisfied: fonttools>=4.24.0 in /usr/local/lib/python3.10/dist-packages (from paddleocr>=2.6.0.3) (4.40.0)\n",
            "Collecting fire>=0.3.0 (from paddleocr>=2.6.0.3)\n",
            "  Downloading fire-0.5.0.tar.gz (88 kB)\n",
            "\u001b[2K     \u001b[90m━━━━━━━━━━━━━━━━━━━━━━━━━━━━━━━━━━━━━━━━\u001b[0m \u001b[32m88.3/88.3 kB\u001b[0m \u001b[31m10.4 MB/s\u001b[0m eta \u001b[36m0:00:00\u001b[0m\n",
            "\u001b[?25h  Preparing metadata (setup.py) ... \u001b[?25l\u001b[?25hdone\n",
            "Collecting pdf2docx (from paddleocr>=2.6.0.3)\n",
            "  Downloading pdf2docx-0.5.6-py3-none-any.whl (148 kB)\n",
            "\u001b[2K     \u001b[90m━━━━━━━━━━━━━━━━━━━━━━━━━━━━━━━━━━━━━━\u001b[0m \u001b[32m148.4/148.4 kB\u001b[0m \u001b[31m16.7 MB/s\u001b[0m eta \u001b[36m0:00:00\u001b[0m\n",
            "\u001b[?25hRequirement already satisfied: six in /usr/local/lib/python3.10/dist-packages (from fire>=0.3.0->paddleocr>=2.6.0.3) (1.16.0)\n",
            "Requirement already satisfied: termcolor in /usr/local/lib/python3.10/dist-packages (from fire>=0.3.0->paddleocr>=2.6.0.3) (2.3.0)\n",
            "Requirement already satisfied: soupsieve>1.2 in /usr/local/lib/python3.10/dist-packages (from beautifulsoup4->paddleocr>=2.6.0.3) (2.4.1)\n",
            "Requirement already satisfied: scipy in /usr/local/lib/python3.10/dist-packages (from imgaug->paddleocr>=2.6.0.3) (1.10.1)\n",
            "Requirement already satisfied: Pillow in /usr/local/lib/python3.10/dist-packages (from imgaug->paddleocr>=2.6.0.3) (8.4.0)\n",
            "Requirement already satisfied: matplotlib in /usr/local/lib/python3.10/dist-packages (from imgaug->paddleocr>=2.6.0.3) (3.7.1)\n",
            "Requirement already satisfied: imageio in /usr/local/lib/python3.10/dist-packages (from imgaug->paddleocr>=2.6.0.3) (2.25.1)\n",
            "Requirement already satisfied: networkx>=2.2 in /usr/local/lib/python3.10/dist-packages (from scikit-image->paddleocr>=2.6.0.3) (3.1)\n",
            "Requirement already satisfied: tifffile>=2019.7.26 in /usr/local/lib/python3.10/dist-packages (from scikit-image->paddleocr>=2.6.0.3) (2023.4.12)\n",
            "Requirement already satisfied: PyWavelets>=1.1.1 in /usr/local/lib/python3.10/dist-packages (from scikit-image->paddleocr>=2.6.0.3) (1.4.1)\n",
            "Requirement already satisfied: packaging>=20.0 in /usr/local/lib/python3.10/dist-packages (from scikit-image->paddleocr>=2.6.0.3) (23.1)\n",
            "Requirement already satisfied: et-xmlfile in /usr/local/lib/python3.10/dist-packages (from openpyxl->paddleocr>=2.6.0.3) (1.1.0)\n",
            "Collecting cssselect (from premailer->paddleocr>=2.6.0.3)\n",
            "  Downloading cssselect-1.2.0-py2.py3-none-any.whl (18 kB)\n",
            "Collecting cssutils (from premailer->paddleocr>=2.6.0.3)\n",
            "  Downloading cssutils-2.7.1-py3-none-any.whl (399 kB)\n",
            "\u001b[2K     \u001b[90m━━━━━━━━━━━━━━━━━━━━━━━━━━━━━━━━━━━━━━\u001b[0m \u001b[32m399.7/399.7 kB\u001b[0m \u001b[31m34.8 MB/s\u001b[0m eta \u001b[36m0:00:00\u001b[0m\n",
            "\u001b[?25hRequirement already satisfied: requests in /usr/local/lib/python3.10/dist-packages (from premailer->paddleocr>=2.6.0.3) (2.27.1)\n",
            "Requirement already satisfied: cachetools in /usr/local/lib/python3.10/dist-packages (from premailer->paddleocr>=2.6.0.3) (5.3.1)\n",
            "Collecting bce-python-sdk (from visualdl->paddleocr>=2.6.0.3)\n",
            "  Downloading bce_python_sdk-0.8.83-py3-none-any.whl (210 kB)\n",
            "\u001b[2K     \u001b[90m━━━━━━━━━━━━━━━━━━━━━━━━━━━━━━━━━━━━━━\u001b[0m \u001b[32m210.5/210.5 kB\u001b[0m \u001b[31m21.7 MB/s\u001b[0m eta \u001b[36m0:00:00\u001b[0m\n",
            "\u001b[?25hRequirement already satisfied: flask>=1.1.1 in /usr/local/lib/python3.10/dist-packages (from visualdl->paddleocr>=2.6.0.3) (2.2.5)\n",
            "Collecting Flask-Babel>=3.0.0 (from visualdl->paddleocr>=2.6.0.3)\n",
            "  Downloading flask_babel-3.1.0-py3-none-any.whl (9.6 kB)\n",
            "Requirement already satisfied: protobuf>=3.20.0 in /usr/local/lib/python3.10/dist-packages (from visualdl->paddleocr>=2.6.0.3) (3.20.3)\n",
            "Requirement already satisfied: pandas in /usr/local/lib/python3.10/dist-packages (from visualdl->paddleocr>=2.6.0.3) (1.5.3)\n",
            "Collecting rarfile (from visualdl->paddleocr>=2.6.0.3)\n",
            "  Downloading rarfile-4.0-py3-none-any.whl (28 kB)\n",
            "Requirement already satisfied: psutil in /usr/local/lib/python3.10/dist-packages (from visualdl->paddleocr>=2.6.0.3) (5.9.5)\n",
            "Requirement already satisfied: Werkzeug>=2.2.2 in /usr/local/lib/python3.10/dist-packages (from flask>=1.1.1->visualdl->paddleocr>=2.6.0.3) (2.3.6)\n",
            "Requirement already satisfied: Jinja2>=3.0 in /usr/local/lib/python3.10/dist-packages (from flask>=1.1.1->visualdl->paddleocr>=2.6.0.3) (3.1.2)\n",
            "Requirement already satisfied: itsdangerous>=2.0 in /usr/local/lib/python3.10/dist-packages (from flask>=1.1.1->visualdl->paddleocr>=2.6.0.3) (2.1.2)\n",
            "Requirement already satisfied: click>=8.0 in /usr/local/lib/python3.10/dist-packages (from flask>=1.1.1->visualdl->paddleocr>=2.6.0.3) (8.1.3)\n",
            "Requirement already satisfied: Babel>=2.12 in /usr/local/lib/python3.10/dist-packages (from Flask-Babel>=3.0.0->visualdl->paddleocr>=2.6.0.3) (2.12.1)\n",
            "Requirement already satisfied: pytz>=2022.7 in /usr/local/lib/python3.10/dist-packages (from Flask-Babel>=3.0.0->visualdl->paddleocr>=2.6.0.3) (2022.7.1)\n",
            "Collecting pycryptodome>=3.8.0 (from bce-python-sdk->visualdl->paddleocr>=2.6.0.3)\n",
            "  Downloading pycryptodome-3.18.0-cp35-abi3-manylinux_2_17_x86_64.manylinux2014_x86_64.whl (2.1 MB)\n",
            "\u001b[2K     \u001b[90m━━━━━━━━━━━━━━━━━━━━━━━━━━━━━━━━━━━━━━━━\u001b[0m \u001b[32m2.1/2.1 MB\u001b[0m \u001b[31m82.8 MB/s\u001b[0m eta \u001b[36m0:00:00\u001b[0m\n",
            "\u001b[?25hRequirement already satisfied: future>=0.6.0 in /usr/local/lib/python3.10/dist-packages (from bce-python-sdk->visualdl->paddleocr>=2.6.0.3) (0.18.3)\n",
            "Requirement already satisfied: contourpy>=1.0.1 in /usr/local/lib/python3.10/dist-packages (from matplotlib->imgaug->paddleocr>=2.6.0.3) (1.1.0)\n",
            "Requirement already satisfied: cycler>=0.10 in /usr/local/lib/python3.10/dist-packages (from matplotlib->imgaug->paddleocr>=2.6.0.3) (0.11.0)\n",
            "Requirement already satisfied: kiwisolver>=1.0.1 in /usr/local/lib/python3.10/dist-packages (from matplotlib->imgaug->paddleocr>=2.6.0.3) (1.4.4)\n",
            "Requirement already satisfied: pyparsing>=2.3.1 in /usr/local/lib/python3.10/dist-packages (from matplotlib->imgaug->paddleocr>=2.6.0.3) (3.1.0)\n",
            "Requirement already satisfied: python-dateutil>=2.7 in /usr/local/lib/python3.10/dist-packages (from matplotlib->imgaug->paddleocr>=2.6.0.3) (2.8.2)\n",
            "Requirement already satisfied: urllib3<1.27,>=1.21.1 in /usr/local/lib/python3.10/dist-packages (from requests->premailer->paddleocr>=2.6.0.3) (1.26.16)\n",
            "Requirement already satisfied: certifi>=2017.4.17 in /usr/local/lib/python3.10/dist-packages (from requests->premailer->paddleocr>=2.6.0.3) (2023.5.7)\n",
            "Requirement already satisfied: charset-normalizer~=2.0.0 in /usr/local/lib/python3.10/dist-packages (from requests->premailer->paddleocr>=2.6.0.3) (2.0.12)\n",
            "Requirement already satisfied: idna<4,>=2.5 in /usr/local/lib/python3.10/dist-packages (from requests->premailer->paddleocr>=2.6.0.3) (3.4)\n",
            "Requirement already satisfied: MarkupSafe>=2.0 in /usr/local/lib/python3.10/dist-packages (from Jinja2>=3.0->flask>=1.1.1->visualdl->paddleocr>=2.6.0.3) (2.1.3)\n",
            "Building wheels for collected packages: fire, python-docx\n",
            "  Building wheel for fire (setup.py) ... \u001b[?25l\u001b[?25hdone\n",
            "  Created wheel for fire: filename=fire-0.5.0-py2.py3-none-any.whl size=116932 sha256=a19d7799ee3d5c7f20f89e2af3976369128aef803a6e04c4f88a73d6aa246a03\n",
            "  Stored in directory: /root/.cache/pip/wheels/90/d4/f7/9404e5db0116bd4d43e5666eaa3e70ab53723e1e3ea40c9a95\n",
            "  Building wheel for python-docx (setup.py) ... \u001b[?25l\u001b[?25hdone\n",
            "  Created wheel for python-docx: filename=python_docx-0.8.11-py3-none-any.whl size=184491 sha256=77fee2b5556b3408cb8e3b6bd12e3a904c9ee0b5ffec13fba1981a7a4db295c0\n",
            "  Stored in directory: /root/.cache/pip/wheels/80/27/06/837436d4c3bd989b957a91679966f207bfd71d358d63a8194d\n",
            "Successfully built fire python-docx\n",
            "Installing collected packages: rarfile, pyclipper, lmdb, rapidfuzz, python-docx, PyMuPDF, pycryptodome, opencv-python, opencv-contrib-python, fire, cssutils, cssselect, attrdict, premailer, pdf2docx, bce-python-sdk, Flask-Babel, visualdl, paddleocr\n",
            "  Attempting uninstall: opencv-python\n",
            "    Found existing installation: opencv-python 4.7.0.72\n",
            "    Uninstalling opencv-python-4.7.0.72:\n",
            "      Successfully uninstalled opencv-python-4.7.0.72\n",
            "  Attempting uninstall: opencv-contrib-python\n",
            "    Found existing installation: opencv-contrib-python 4.7.0.72\n",
            "    Uninstalling opencv-contrib-python-4.7.0.72:\n",
            "      Successfully uninstalled opencv-contrib-python-4.7.0.72\n",
            "Successfully installed Flask-Babel-3.1.0 PyMuPDF-1.20.2 attrdict-2.0.1 bce-python-sdk-0.8.83 cssselect-1.2.0 cssutils-2.7.1 fire-0.5.0 lmdb-1.4.1 opencv-contrib-python-4.6.0.66 opencv-python-4.6.0.66 paddleocr-2.6.1.3 pdf2docx-0.5.6 premailer-3.10.0 pyclipper-1.3.0.post4 pycryptodome-3.18.0 python-docx-0.8.11 rapidfuzz-3.1.1 rarfile-4.0 visualdl-2.5.3\n"
          ]
        }
      ]
    },
    {
      "cell_type": "markdown",
      "source": [
        "cloning the paddleocr repository from github"
      ],
      "metadata": {
        "id": "vULC2vA7PQ0C"
      }
    },
    {
      "cell_type": "code",
      "source": [
        "!git clone https://github.com/PaddlePaddle/Paddleocr.git"
      ],
      "metadata": {
        "colab": {
          "base_uri": "https://localhost:8080/"
        },
        "id": "Ucfs7FIGIdsZ",
        "outputId": "03e791e8-bf91-49b1-bb07-be6df7244bf0"
      },
      "execution_count": null,
      "outputs": [
        {
          "output_type": "stream",
          "name": "stdout",
          "text": [
            "Cloning into 'Paddleocr'...\n",
            "remote: Enumerating objects: 46521, done.\u001b[K\n",
            "remote: Counting objects: 100% (387/387), done.\u001b[K\n",
            "remote: Compressing objects: 100% (266/266), done.\u001b[K\n",
            "remote: Total 46521 (delta 220), reused 232 (delta 120), pack-reused 46134\u001b[K\n",
            "Receiving objects: 100% (46521/46521), 342.91 MiB | 14.71 MiB/s, done.\n",
            "Resolving deltas: 100% (32628/32628), done.\n",
            "Updating files: 100% (1620/1620), done.\n"
          ]
        }
      ]
    },
    {
      "cell_type": "code",
      "source": [
        "from google.colab import drive\n",
        "drive.mount('/content/drive')"
      ],
      "metadata": {
        "colab": {
          "base_uri": "https://localhost:8080/"
        },
        "id": "FP2w4caKyqCT",
        "outputId": "49ee2c73-edf2-41ee-8435-71eeebdf916c"
      },
      "execution_count": null,
      "outputs": [
        {
          "output_type": "stream",
          "name": "stdout",
          "text": [
            "Mounted at /content/drive\n"
          ]
        }
      ]
    },
    {
      "cell_type": "code",
      "source": [
        "save_folder=\"/content/drive/MyDrive/Deep_learning\""
      ],
      "metadata": {
        "id": "kniOGTe4zBWn"
      },
      "execution_count": null,
      "outputs": []
    },
    {
      "cell_type": "markdown",
      "source": [
        "Importing libraries"
      ],
      "metadata": {
        "id": "k6kiKcS0Pmgx"
      }
    },
    {
      "cell_type": "code",
      "source": [
        "import os\n",
        "import cv2\n",
        "from paddleocr import PPStructure,draw_structure_result,save_structure_res"
      ],
      "metadata": {
        "id": "5Af5WoiAw94Y"
      },
      "execution_count": null,
      "outputs": []
    },
    {
      "cell_type": "code",
      "source": [
        "from PIL import Image"
      ],
      "metadata": {
        "id": "-kFtOMFtz0pm"
      },
      "execution_count": null,
      "outputs": []
    },
    {
      "cell_type": "markdown",
      "source": [
        "Layout analysis"
      ],
      "metadata": {
        "id": "53aPTEt-PyBX"
      }
    },
    {
      "cell_type": "code",
      "source": [
        "table_engine = PPStructure(show_log=True)"
      ],
      "metadata": {
        "colab": {
          "base_uri": "https://localhost:8080/"
        },
        "id": "0uGGGrgexDAJ",
        "outputId": "45e42660-e5a0-4460-a7c3-de40e5f38fb2"
      },
      "execution_count": null,
      "outputs": [
        {
          "output_type": "stream",
          "name": "stdout",
          "text": [
            "download https://paddleocr.bj.bcebos.com/PP-OCRv3/chinese/ch_PP-OCRv3_det_infer.tar to /root/.paddleocr/whl/det/ch/ch_PP-OCRv3_det_infer/ch_PP-OCRv3_det_infer.tar\n"
          ]
        },
        {
          "output_type": "stream",
          "name": "stderr",
          "text": [
            "100%|██████████| 3.83M/3.83M [00:00<00:00, 7.16MiB/s]\n"
          ]
        },
        {
          "output_type": "stream",
          "name": "stdout",
          "text": [
            "download https://paddleocr.bj.bcebos.com/PP-OCRv3/chinese/ch_PP-OCRv3_rec_infer.tar to /root/.paddleocr/whl/rec/ch/ch_PP-OCRv3_rec_infer/ch_PP-OCRv3_rec_infer.tar\n"
          ]
        },
        {
          "output_type": "stream",
          "name": "stderr",
          "text": [
            "100%|██████████| 11.9M/11.9M [00:00<00:00, 17.9MiB/s]\n"
          ]
        },
        {
          "output_type": "stream",
          "name": "stdout",
          "text": [
            "download https://paddleocr.bj.bcebos.com/ppstructure/models/slanet/ch_ppstructure_mobile_v2.0_SLANet_infer.tar to /root/.paddleocr/whl/table/ch_ppstructure_mobile_v2.0_SLANet_infer/ch_ppstructure_mobile_v2.0_SLANet_infer.tar\n"
          ]
        },
        {
          "output_type": "stream",
          "name": "stderr",
          "text": [
            "100%|██████████| 10.3M/10.3M [00:00<00:00, 19.1MiB/s]\n"
          ]
        },
        {
          "output_type": "stream",
          "name": "stdout",
          "text": [
            "download https://paddleocr.bj.bcebos.com/ppstructure/models/layout/picodet_lcnet_x1_0_fgd_layout_cdla_infer.tar to /root/.paddleocr/whl/layout/picodet_lcnet_x1_0_fgd_layout_cdla_infer/picodet_lcnet_x1_0_fgd_layout_cdla_infer.tar\n"
          ]
        },
        {
          "output_type": "stream",
          "name": "stderr",
          "text": [
            "100%|██████████| 10.1M/10.1M [00:02<00:00, 4.74MiB/s]"
          ]
        },
        {
          "output_type": "stream",
          "name": "stdout",
          "text": [
            "[2023/06/28 22:11:44] ppocr DEBUG: Namespace(help='==SUPPRESS==', use_gpu=False, use_xpu=False, use_npu=False, ir_optim=True, use_tensorrt=False, min_subgraph_size=15, precision='fp32', gpu_mem=500, image_dir=None, page_num=0, det_algorithm='DB', det_model_dir='/root/.paddleocr/whl/det/ch/ch_PP-OCRv3_det_infer', det_limit_side_len=960, det_limit_type='max', det_box_type='quad', det_db_thresh=0.3, det_db_box_thresh=0.6, det_db_unclip_ratio=1.5, max_batch_size=10, use_dilation=False, det_db_score_mode='fast', det_east_score_thresh=0.8, det_east_cover_thresh=0.1, det_east_nms_thresh=0.2, det_sast_score_thresh=0.5, det_sast_nms_thresh=0.2, det_pse_thresh=0, det_pse_box_thresh=0.85, det_pse_min_area=16, det_pse_scale=1, scales=[8, 16, 32], alpha=1.0, beta=1.0, fourier_degree=5, rec_algorithm='SVTR_LCNet', rec_model_dir='/root/.paddleocr/whl/rec/ch/ch_PP-OCRv3_rec_infer', rec_image_inverse=True, rec_image_shape='3, 48, 320', rec_batch_num=6, max_text_length=25, rec_char_dict_path='/usr/local/lib/python3.10/dist-packages/paddleocr/ppocr/utils/ppocr_keys_v1.txt', use_space_char=True, vis_font_path='./doc/fonts/simfang.ttf', drop_score=0.5, e2e_algorithm='PGNet', e2e_model_dir=None, e2e_limit_side_len=768, e2e_limit_type='max', e2e_pgnet_score_thresh=0.5, e2e_char_dict_path='./ppocr/utils/ic15_dict.txt', e2e_pgnet_valid_set='totaltext', e2e_pgnet_mode='fast', use_angle_cls=False, cls_model_dir=None, cls_image_shape='3, 48, 192', label_list=['0', '180'], cls_batch_num=6, cls_thresh=0.9, enable_mkldnn=False, cpu_threads=10, use_pdserving=False, warmup=False, sr_model_dir=None, sr_image_shape='3, 32, 128', sr_batch_num=1, draw_img_save_dir='./inference_results', save_crop_res=False, crop_res_save_dir='./output', use_mp=False, total_process_num=1, process_id=0, benchmark=False, save_log_path='./log_output/', show_log=True, use_onnx=False, output='./output', table_max_len=488, table_algorithm='TableAttn', table_model_dir='/root/.paddleocr/whl/table/ch_ppstructure_mobile_v2.0_SLANet_infer', merge_no_span_structure=True, table_char_dict_path='/usr/local/lib/python3.10/dist-packages/paddleocr/ppocr/utils/dict/table_structure_dict_ch.txt', layout_model_dir='/root/.paddleocr/whl/layout/picodet_lcnet_x1_0_fgd_layout_cdla_infer', layout_dict_path='/usr/local/lib/python3.10/dist-packages/paddleocr/ppocr/utils/dict/layout_dict/layout_cdla_dict.txt', layout_score_threshold=0.5, layout_nms_threshold=0.5, kie_algorithm='LayoutXLM', ser_model_dir=None, re_model_dir=None, use_visual_backbone=True, ser_dict_path='../train_data/XFUND/class_list_xfun.txt', ocr_order_method=None, mode='structure', image_orientation=False, layout=True, table=True, ocr=True, recovery=False, use_pdf2docx_api=False, lang='ch', det=True, rec=True, type='ocr', ocr_version='PP-OCRv3', structure_version='PP-StructureV2')\n"
          ]
        },
        {
          "output_type": "stream",
          "name": "stderr",
          "text": [
            "\n"
          ]
        }
      ]
    },
    {
      "cell_type": "code",
      "source": [
        "img_path = 'Mon projet.png'"
      ],
      "metadata": {
        "id": "lx1OO10cx9CS"
      },
      "execution_count": null,
      "outputs": []
    },
    {
      "cell_type": "code",
      "source": [
        "img = cv2.imread(img_path)\n",
        "result = table_engine(img)"
      ],
      "metadata": {
        "colab": {
          "base_uri": "https://localhost:8080/"
        },
        "id": "c4iXjhGJyG00",
        "outputId": "3ad643e4-eaff-40bb-b8b7-a2e3d4d19d6c"
      },
      "execution_count": null,
      "outputs": [
        {
          "output_type": "stream",
          "name": "stdout",
          "text": [
            "[2023/06/28 22:40:54] ppocr DEBUG: dt_boxes num : 197, elapse : 1.472022294998169\n",
            "[2023/06/28 22:41:15] ppocr DEBUG: rec_res num  : 197, elapse : 20.45382261276245\n",
            "[2023/06/28 22:41:15] ppocr DEBUG: dt_boxes num : 0, elapse : 0.024529695510864258\n",
            "[2023/06/28 22:41:15] ppocr DEBUG: rec_res num  : 0, elapse : 2.1457672119140625e-06\n",
            "[2023/06/28 22:41:15] ppocr DEBUG: dt_boxes num : 1, elapse : 0.03256344795227051\n",
            "[2023/06/28 22:41:15] ppocr DEBUG: rec_res num  : 1, elapse : 0.5238862037658691\n",
            "[2023/06/28 22:41:15] ppocr DEBUG: dt_boxes num : 0, elapse : 0.023367881774902344\n",
            "[2023/06/28 22:41:15] ppocr DEBUG: rec_res num  : 0, elapse : 2.1457672119140625e-06\n"
          ]
        }
      ]
    },
    {
      "cell_type": "code",
      "source": [
        "save_structure_res(result, save_folder,os.path.basename(img_path).split('.')[0])"
      ],
      "metadata": {
        "id": "suqKYAu9yS1f"
      },
      "execution_count": null,
      "outputs": []
    },
    {
      "cell_type": "code",
      "source": [
        "for line in result:\n",
        "    line.pop('img')\n",
        "    print(line)"
      ],
      "metadata": {
        "colab": {
          "base_uri": "https://localhost:8080/"
        },
        "id": "JZ8yHOTvzMui",
        "outputId": "d3267010-9f0a-4251-f8cd-47f2b55c19b8"
      },
      "execution_count": null,
      "outputs": [
        {
          "output_type": "stream",
          "name": "stdout",
          "text": [
            "{'type': 'table', 'bbox': [33, 111, 1043, 1436], 'res': {'cell_bbox': [[17.13985824584961, 34.09933090209961, 253.75135803222656, 42.82209396362305, 239.13697814941406, 1095.37451171875, 14.745529174804688, 1068.6806640625], [479.036376953125, 602.2151489257812, 285.5616455078125, 653.5692749023438, 242.97283935546875, 228.06748962402344, 414.8656921386719, 197.31451416015625], [711.4384765625, 508.2237854003906, 598.6563110351562, 564.334716796875, 569.0167846679688, 185.3551025390625, 676.0083618164062, 160.052978515625], [972.818115234375, 578.1835327148438, 751.7996826171875, 628.7305908203125, 730.9722290039062, 217.13803100585938, 965.4197387695312, 194.6719970703125]], 'html': \"<html><body><table><tr><td>Sball Jull gallpi .92329 Jlitaylpll gll sae 2023 ls 02 L&kgllaulll 10.000 LJLi  DESIGN ley Lyis Clihg gi 793 ul 2 -21 a1 till ts 4000 t4sx 1- akealBsel:Ja ll  p is 9 1 - 793 Jl  -2 tl sy 40000 ts c69 9 Zouhair Thalal (s)1 Cel jb l 2323 ()ulgie 8 (s) cppes Lll 4sl 40000 a5,a isgleLylng hriiFh gial gli Js 9 Bylill -: 4J aabll stgl i Cm Cigls 28 ts cise yle .146467 ,  2023 7081 THALAL CONSULTANTS I&K DESIGN Bsgl9lsaa asis THALAL CONSULTANTS N°23 RUE TARIK BNOU ZIAD APPT N°8 GUELIZ ZIAD APPT N°8 GUELIZ MARRAKECH.40000. MARRAKECH.40000. MARRAKECH MAROC MARRAKECH MAROC  i&k design ≥1 25 L&k DESIGN (aeil h 9)sgll h 5gall91 F clery-Lgis clig (ariajl 1-793  2 21 ellceleisyilyis olying tl ctty 4000 sly 1-793 u  -,2 ll 400001g</td><td>sbl Jeull gall pg .4707 Jlilplel gll cpie 2023  24 t ayul sbball l e ch i sil :1  Ca yali ENTREPRISE MAROCAINE D'ASSAINISSEMENT ET POWERFUL JI ELECTRICITE ENERGY NATURE ch i l :2  sl JLersl, c i 60000.00%)5 ile l 4000.000 0  sl 1 ey Cb*(,-10000.00 clicppilhi haae Ji e wi big l  pal ic ch p si 2 POWERFUL JI SJI α ENERGY NATURE ch cpli iN JI ail Jleal t ictls “ 0000.0 eall Clll ml H28 J .1630 ,  2023 7071 7061 THALAL CONSUITANTS L&kDESIGN Bsgall agll l3 apa THALAL CONSULTANTS N°23 RUETARIK BNOU</td><td>Lhi co Cuuis Gll Bul - 2iu 99 : 25,J1 100.000 :s aJl JLobs el- 100 :all l  - iill cPpl ils - -ay-ll pig le Liog ola)ekp Jyetl- :(ogh) ()bls (6)l- 90000 aib : lgis cikl9 ill geilb cogla SraLu (B)l · ib  ili cul, ()yp -ill alb 90000 ol)lJ :(cggirl) til lail s  ()- glb al () 1- Slil Jaall g al i, ii 2023 gls 22 yls .136241 ull-o POWERFULENERGY NATURE bball uio dMe! cila-ce JVe s: -23000 . 41 p, -a Lil POWERFULENERGY NATURE Bsgul wll 3 25n 32 pisceleiy21 Loyis oli6g 2 ill Js c 23000- J lls </td><td>:c9 96 Bisg. Cl (B)l Luijg 20545 Luijg ()ilgis A (8) GpS Luiy ei el sel  g g g 2023  20 ll dhh  cot cly 90090 - 5b)  ,b 51 p5 i ab Gl Gle mly 13 l  3779 ,  2023 7051 FARES COUTURETRADITIONNELLE FARESCOUTURE TRADITIONNELLE is FARES COUTURE lllg esall elul - TRADITIONNELLE 9 kaJl li09 cblgg lieg 2o51 sl999l 9 6 L5 C b .0. 6 ,2 3alleLot ill FARES COUTURE 1325 TRADITIONNELLE Bsgll o Cla sleiyy-Loyis Clohg loa1 9g9 9 -b - 6 , 2 i ch h! Bagisll alogll sll lg l 136241 g tso by lie bpiis. 2s us  2023 cglo 10 Sbell Bagall aosull zl3 : ih his i- o FARES :LwyA eaZEy COUTURE TRADITIONNELLE oly slal Waa chy. as Gla ieloiyyl yall cloie - 201 56ig9l 9 s -2b -6 , 2 ll</td></tr></table></body></html>\"}, 'img_idx': 0}\n",
            "{'type': 'header', 'bbox': [1001, 89, 1034, 100], 'res': [], 'img_idx': 0}\n",
            "{'type': 'header', 'bbox': [45, 86, 302, 103], 'res': [{'text': '2023.u112)144421-57633', 'confidence': 0.8007354736328125, 'text_region': [[53.0, 89.0], [297.0, 91.0], [297.0, 100.0], [53.0, 98.0]]}], 'img_idx': 0}\n",
            "{'type': 'header', 'bbox': [472, 81, 604, 104], 'res': [], 'img_idx': 0}\n"
          ]
        }
      ]
    },
    {
      "cell_type": "markdown",
      "source": [
        "Table recognition"
      ],
      "metadata": {
        "id": "EFJGzkE8P1VB"
      }
    },
    {
      "cell_type": "code",
      "source": [
        "latin_font_path = 'Paddleocr/doc/fonts/latin.ttf' # font provieded in PaddleOCR\n",
        "arabic_font_path= 'Paddleocr/doc/fonts/arabic.ttf'\n",
        "image = Image.open(img_path).convert('RGB')\n",
        "im_show = draw_structure_result(image, result, font_path=arabic_font_path)\n",
        "im_show = Image.fromarray(im_show)\n",
        "im_show.save('result.jpg')"
      ],
      "metadata": {
        "id": "NBv8xlyxz3p3"
      },
      "execution_count": null,
      "outputs": []
    }
  ]
}